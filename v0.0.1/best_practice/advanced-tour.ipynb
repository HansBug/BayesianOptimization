{
 "cells": [
  {
   "cell_type": "markdown",
   "metadata": {},
   "source": [
    "# Advanced tour of the Bayesian Optimization package"
   ]
  },
  {
   "cell_type": "code",
   "execution_count": 1,
   "metadata": {},
   "outputs": [],
   "source": [
    "from bayes_opt import BayesianOptimization"
   ]
  },
  {
   "cell_type": "markdown",
   "metadata": {},
   "source": [
    "## 1. Suggest-Evaluate-Register Paradigm\n",
    "\n",
    "Internally the `maximize` method is simply a wrapper around the methods `suggest`, `probe`, and `register`. If you need more control over your optimization loops the Suggest-Evaluate-Register paradigm should give you that extra flexibility.\n",
    "\n",
    "For an example of running the `BayesianOptimization` in a distributed fashion (where the function being optimized is evaluated concurrently in different cores/machines/servers), checkout the `async_optimization.py` script in the examples folder."
   ]
  },
  {
   "cell_type": "code",
   "execution_count": 2,
   "metadata": {},
   "outputs": [],
   "source": [
    "# Let's start by definying our function, bounds, and instanciating an optimization object.\n",
    "def black_box_function(x, y):\n",
    "    return -x ** 2 - (y - 1) ** 2 + 1"
   ]
  },
  {
   "cell_type": "markdown",
   "metadata": {},
   "source": [
    "Notice that the evaluation of the blackbox function will NOT be carried out by the optimizer object. We are simulating a situation where this function could be being executed in a different machine, maybe it is written in another language, or it could even be the result of a chemistry experiment. Whatever the case may be, you can take charge of it and as long as you don't invoke the `probe` or `maximize` methods directly, the optimizer object will ignore the blackbox function."
   ]
  },
  {
   "cell_type": "code",
   "execution_count": 3,
   "metadata": {},
   "outputs": [],
   "source": [
    "optimizer = BayesianOptimization(\n",
    "    f=None,\n",
    "    pbounds={'x': (-2, 2), 'y': (-3, 3)},\n",
    "    verbose=2,\n",
    "    random_state=1,\n",
    ")"
   ]
  },
  {
   "cell_type": "markdown",
   "metadata": {},
   "source": [
    "One extra ingredient we will need is an `UtilityFunction` instance. In case it is not clear why, take a look at the literature to understand better how this method works."
   ]
  },
  {
   "cell_type": "code",
   "execution_count": 4,
   "metadata": {},
   "outputs": [],
   "source": [
    "from bayes_opt import UtilityFunction\n",
    "\n",
    "utility = UtilityFunction(kind=\"ucb\", kappa=2.5, xi=0.0)"
   ]
  },
  {
   "cell_type": "markdown",
   "metadata": {},
   "source": [
    "The `suggest` method of our optimizer can be called at any time. What you get back is a suggestion for the next parameter combination the optimizer wants to probe.\n",
    "\n",
    "Notice that while the optimizer hasn't observed any points, the suggestions will be random. However, they will stop being random and improve in quality the more points are observed."
   ]
  },
  {
   "cell_type": "code",
   "execution_count": 5,
   "metadata": {},
   "outputs": [
    {
     "name": "stdout",
     "output_type": "stream",
     "text": [
      "Next point to probe is: {'x': -0.331911981189704, 'y': 1.3219469606529488}\n"
     ]
    }
   ],
   "source": [
    "next_point_to_probe = optimizer.suggest(utility)\n",
    "print(\"Next point to probe is:\", next_point_to_probe)"
   ]
  },
  {
   "cell_type": "markdown",
   "metadata": {},
   "source": [
    "You are now free to evaluate your function at the suggested point however/whenever you like."
   ]
  },
  {
   "cell_type": "code",
   "execution_count": 6,
   "metadata": {},
   "outputs": [
    {
     "name": "stdout",
     "output_type": "stream",
     "text": [
      "Found the target value to be: 0.7861845912690542\n"
     ]
    }
   ],
   "source": [
    "target = black_box_function(**next_point_to_probe)\n",
    "print(\"Found the target value to be:\", target)"
   ]
  },
  {
   "cell_type": "markdown",
   "metadata": {},
   "source": [
    "Last thing left to do is to tell the optimizer what target value was observed."
   ]
  },
  {
   "cell_type": "code",
   "execution_count": 7,
   "metadata": {},
   "outputs": [],
   "source": [
    "optimizer.register(\n",
    "    x=next_point_to_probe,\n",
    "    y=target,\n",
    ")"
   ]
  },
  {
   "cell_type": "markdown",
   "metadata": {},
   "source": [
    "### 1.1 The maximize loop\n",
    "\n",
    "And that's it. By repeating the steps above you recreate the internals of the `maximize` method. This should give you all the flexibility you need to log progress, hault execution, perform concurrent evaluations, etc."
   ]
  },
  {
   "cell_type": "code",
   "execution_count": 8,
   "metadata": {},
   "outputs": [
    {
     "name": "stdout",
     "output_type": "stream",
     "text": [
      "-18.49187152919165 {'x': 1.8861546000771092, 'y': -2.9917780942581977}\n",
      "0.7911494590443674 {'x': -0.31764604716962586, 'y': 1.3285597809731806}\n",
      "-6.738653892565658 {'x': -1.9777941453451842, 'y': 2.9562679292990444}\n",
      "-6.741655559035455 {'x': 1.9742487076906352, 'y': 2.960611537050956}\n",
      "-7.311459236889235 {'x': -1.999211910635848, 'y': -1.0771641661796976}\n",
      "{'target': 0.7911494590443674, 'params': {'x': -0.31764604716962586, 'y': 1.3285597809731806}}\n"
     ]
    }
   ],
   "source": [
    "for _ in range(5):\n",
    "    next_point = optimizer.suggest(utility)\n",
    "    target = black_box_function(**next_point)\n",
    "    optimizer.register(x=next_point, y=target)\n",
    "    \n",
    "    print(target, next_point)\n",
    "print(optimizer.max)"
   ]
  },
  {
   "cell_type": "markdown",
   "metadata": {},
   "source": [
    "## 2. Dealing with discrete parameters\n",
    "\n",
    "**There is no principled way of dealing with discrete parameters using this package.**\n",
    "\n",
    "Ok, now that we got that out of the way, how do you do it? You're bound to be in a situation where some of your function's parameters may only take on discrete values. Unfortunately, the nature of bayesian optimization with gaussian processes doesn't allow for an easy/intuitive way of dealing with discrete parameters - but that doesn't mean it is impossible. The example below showcases a simple, yet reasonably adequate, way to dealing with discrete parameters."
   ]
  },
  {
   "cell_type": "code",
   "execution_count": 9,
   "metadata": {},
   "outputs": [],
   "source": [
    "def func_with_discrete_params(x, y, d):\n",
    "    # Simulate necessity of having d being discrete.\n",
    "    assert type(d) == int\n",
    "    \n",
    "    return ((x + y + d) // (1 + d)) / (1 + (x + y) ** 2)"
   ]
  },
  {
   "cell_type": "code",
   "execution_count": 10,
   "metadata": {},
   "outputs": [],
   "source": [
    "def function_to_be_optimized(x, y, w):\n",
    "    d = int(w)\n",
    "    return func_with_discrete_params(x, y, d)"
   ]
  },
  {
   "cell_type": "code",
   "execution_count": 11,
   "metadata": {},
   "outputs": [],
   "source": [
    "optimizer = BayesianOptimization(\n",
    "    f=function_to_be_optimized,\n",
    "    pbounds={'x': (-10, 10), 'y': (-10, 10), 'w': (0, 5)},\n",
    "    verbose=2,\n",
    "    random_state=1,\n",
    ")"
   ]
  },
  {
   "cell_type": "code",
   "execution_count": 12,
   "metadata": {},
   "outputs": [
    {
     "name": "stdout",
     "output_type": "stream",
     "text": [
      "|   iter    |  target   |     w     |     x     |     y     |\n",
      "-------------------------------------------------------------\n",
      "|  1        | -0.06199  |  2.085    |  4.406    | -9.998    |\n",
      "|  2        | -0.0344   |  1.512    | -7.065    | -8.153    |\n",
      "|  3        | -0.2177   |  0.9313   | -3.089    | -2.065    |\n",
      "|  4        |  0.1865   |  2.694    | -1.616    |  3.704    |\n",
      "|  5        | -0.2187   |  1.022    |  7.562    | -9.452    |\n",
      "|  6        |  0.1868   |  2.533    | -1.728    |  3.815    |\n",
      "|  7        |  0.04138  |  3.494    |  0.1725   |  6.707    |\n",
      "|  8        |  0.0      |  4.737    | -3.817    |  4.586    |\n",
      "|  9        |  0.1096   |  1.001    |  0.7072   |  3.447    |\n",
      "|  10       |  0.04164  |  4.762    |  2.874    |  1.923    |\n",
      "|  11       |  0.1892   |  0.04772  | -2.696    |  6.551    |\n",
      "|  12       |  0.2199   |  0.02389  | -5.944    |  9.5      |\n",
      "|  13       | -0.457    |  0.07146  | -9.618    |  7.259    |\n",
      "|  14       |  0.1358   |  0.329    | -3.351    |  9.922    |\n",
      "|  15       |  0.04341  |  3.041    | -5.183    |  9.877    |\n",
      "|  16       |  0.08249  |  0.2258   |  5.954    |  6.066    |\n",
      "|  17       |  0.0943   |  0.1087   |  1.653    |  8.596    |\n",
      "|  18       |  0.02195  |  2.85     |  6.579    |  9.923    |\n",
      "|  19       |  0.08179  |  0.03698  |  9.263    |  2.291    |\n",
      "|  20       |  0.01622  |  4.217    |  9.192    |  4.37     |\n",
      "|  21       |  0.2718   |  0.02731  | -4.618    |  7.787    |\n",
      "|  22       |  0.1636   |  0.01546  |  5.282    | -0.4399   |\n",
      "|  23       |  0.05458  |  2.567    |  7.691    | -1.721    |\n",
      "|  24       |  0.0      |  0.01681  | -4.034    |  4.158    |\n",
      "|  25       |  0.1324   |  0.2598   |  4.813    |  2.388    |\n",
      "|  26       | -0.01641  |  4.777    | -1.422    | -9.572    |\n",
      "|  27       |  0.0      |  0.5638   |  3.639    | -3.352    |\n",
      "|  28       | -0.01294  |  4.791    | -9.924    | -2.469    |\n",
      "|  29       |  0.04902  |  0.06084  |  9.897    |  9.765    |\n",
      "|  30       |  0.1248   |  1.479    | -3.513    |  7.389    |\n",
      "=============================================================\n"
     ]
    }
   ],
   "source": [
    "optimizer.maximize(alpha=1e-3)"
   ]
  },
  {
   "cell_type": "markdown",
   "metadata": {},
   "source": [
    "## 3. Handling functions that may throw exceptions\n",
    "\n",
    "We can handle probable exceptions in black-box functions in this framework by throwing `FuncFailed` exceptions. When the `FuncFailed` exception is raised, the value of this time's independent variable is discarded and has no influence on the ongoing fitting processes. Also, `OptimizationEvent.SKIP` event will be triggered."
   ]
  },
  {
   "cell_type": "code",
   "execution_count": 13,
   "metadata": {},
   "outputs": [],
   "source": [
    "import random\n",
    "from bayes_opt.target_space import FuncFailed\n",
    "\n",
    "\n",
    "def func_with_exception(x, y):\n",
    "    if random.random() < 0.20:\n",
    "        raise FuncFailed(x, y)  # 20% chance to throw exception\n",
    "    return -x ** 2 - (y - 1) ** 2 + 1"
   ]
  },
  {
   "cell_type": "code",
   "execution_count": 14,
   "metadata": {},
   "outputs": [],
   "source": [
    "optimizer = BayesianOptimization(\n",
    "    f=func_with_exception,\n",
    "    pbounds={'x': (2, 4), 'y': (-3, 3)},\n",
    "    random_state=1,\n",
    "    verbose=2,\n",
    ")"
   ]
  },
  {
   "cell_type": "code",
   "execution_count": 15,
   "metadata": {},
   "outputs": [
    {
     "name": "stdout",
     "output_type": "stream",
     "text": [
      "|   iter    |  target   |     x     |     y     |\n",
      "-------------------------------------------------\n",
      "|  1        | -7.135    |  2.834    |  1.322    |\n",
      "|  2        | -7.78     |  2.0      | -1.186    |\n",
      "|  3        | <skipped> |  2.294    | -2.446    |\n",
      "|  4        | -8.341    |  2.373    | -0.9266   |\n",
      "|  5        | -7.392    |  2.794    |  0.2329   |\n",
      "|  6        | -7.069    |  2.838    |  1.111    |\n",
      "|  7        | <skipped> |  2.409    |  2.269    |\n",
      "|  8        | -3.223    |  2.055    |  1.023    |\n",
      "|  9        | <skipped> |  2.835    |  0.3521   |\n",
      "|  10       | -12.11    |  2.281    | -1.811    |\n",
      "|  11       | -15.25    |  3.601    |  2.81     |\n",
      "|  12       | <skipped> |  2.627    |  1.154    |\n",
      "|  13       | <skipped> |  3.753    |  2.368    |\n",
      "|  14       | -17.89    |  2.17     | -2.766    |\n",
      "|  15       | -6.084    |  2.34     |  2.269    |\n",
      "|  16       | -7.0      |  2.0      |  3.0      |\n",
      "|  17       | -17.14    |  4.0      | -0.4635   |\n",
      "|  18       | -3.505    |  2.0      |  0.2897   |\n",
      "|  19       | -3.356    |  2.0      |  1.596    |\n",
      "|  20       | -3.053    |  2.0      |  0.7706   |\n",
      "|  21       | -3.008    |  2.0      |  1.09     |\n",
      "|  22       | -3.034    |  2.0      |  1.184    |\n",
      "|  23       | -3.001    |  2.0      |  0.9696   |\n",
      "|  24       | -3.0      |  2.0      |  0.9897   |\n",
      "|  25       | -3.0      |  2.0      |  0.9944   |\n",
      "|  26       | -3.0      |  2.0      |  0.9975   |\n",
      "|  27       | -3.0      |  2.0      |  1.001    |\n",
      "|  28       | -3.0      |  2.0      |  0.9982   |\n",
      "|  29       | -3.0      |  2.0      |  1.016    |\n",
      "|  30       | -3.002    |  2.0      |  0.9599   |\n",
      "|  31       | -3.001    |  2.0      |  0.9745   |\n",
      "|  32       | <skipped> |  2.0      |  1.024    |\n",
      "|  33       | -3.001    |  2.0      |  1.024    |\n",
      "|  34       | -3.0      |  2.0      |  1.022    |\n",
      "|  35       | -3.001    |  2.0      |  0.9654   |\n",
      "|  36       | -3.0      |  2.0      |  1.021    |\n",
      "|  37       | <skipped> |  2.0      |  1.019    |\n",
      "|  38       | -3.001    |  2.0      |  0.9694   |\n",
      "|  39       | -3.0      |  2.0      |  1.021    |\n",
      "|  40       | -3.001    |  2.0      |  0.975    |\n",
      "|  41       | -3.0      |  2.0      |  1.021    |\n",
      "|  42       | <skipped> |  4.0      | -3.0      |\n",
      "|  43       | -3.0      |  2.0      |  1.019    |\n",
      "|  44       | -3.001    |  2.0      |  0.9717   |\n",
      "|  45       | -3.0      |  2.0      |  1.019    |\n",
      "=================================================\n"
     ]
    }
   ],
   "source": [
    "optimizer.maximize(\n",
    "    init_points=15,\n",
    "    n_iter=30,\n",
    ")"
   ]
  },
  {
   "cell_type": "code",
   "execution_count": 16,
   "metadata": {},
   "outputs": [
    {
     "data": {
      "text/plain": [
       "{'target': -3.000000400520359, 'params': {'x': 2.0, 'y': 1.0006328667783022}}"
      ]
     },
     "execution_count": 16,
     "metadata": {},
     "output_type": "execute_result"
    }
   ],
   "source": [
    "optimizer.max"
   ]
  },
  {
   "cell_type": "markdown",
   "metadata": {},
   "source": [
    "## 4. Tuning the underlying Gaussian Process\n",
    "\n",
    "The bayesian optimization algorithm works by performing a gaussian process regression of the observed combination of parameters and their associated target values. The predicted parameter$\\rightarrow$target hyper-surface (and its uncertainty) is then used to guide the next best point to probe."
   ]
  },
  {
   "cell_type": "markdown",
   "metadata": {},
   "source": [
    "### 4.1 Passing parameter to the GP\n",
    "\n",
    "Depending on the problemn it could be beneficial to change the default parameters of the underlying GP. You can simply pass GP parameters to the maximize method directly as you can see below:"
   ]
  },
  {
   "cell_type": "code",
   "execution_count": 17,
   "metadata": {},
   "outputs": [
    {
     "name": "stdout",
     "output_type": "stream",
     "text": [
      "|   iter    |  target   |     x     |     y     |\n",
      "-------------------------------------------------\n",
      "|  1        |  0.7862   | -0.3319   |  1.322    |\n",
      "|  2        | -18.49    |  1.886    | -2.992    |\n",
      "|  3        |  0.7911   | -0.3176   |  1.329    |\n",
      "|  4        | -6.173    | -1.796    |  2.987    |\n",
      "|  5        | -2.834    |  1.502    |  2.256    |\n",
      "|  6        | -4.831    | -1.997    | -0.3574   |\n",
      "=================================================\n"
     ]
    }
   ],
   "source": [
    "optimizer = BayesianOptimization(\n",
    "    f=black_box_function,\n",
    "    pbounds={'x': (-2, 2), 'y': (-3, 3)},\n",
    "    verbose=2,\n",
    "    random_state=1,\n",
    ")\n",
    "optimizer.maximize(\n",
    "    init_points=1,\n",
    "    n_iter=5,\n",
    "    # What follows are GP regressor parameters\n",
    "    alpha=1e-3,\n",
    "    n_restarts_optimizer=5\n",
    ")"
   ]
  },
  {
   "cell_type": "markdown",
   "metadata": {},
   "source": [
    "Another alternative, specially useful if you're calling `maximize` multiple times or optimizing outside the `maximize` loop, is to call the `set_gp_params` method."
   ]
  },
  {
   "cell_type": "code",
   "execution_count": 18,
   "metadata": {},
   "outputs": [],
   "source": [
    "optimizer.set_gp_params(normalize_y=True)"
   ]
  },
  {
   "cell_type": "markdown",
   "metadata": {},
   "source": [
    "### 4.2 Tuning the `alpha` parameter\n",
    "\n",
    "When dealing with functions with discrete parameters,or particularly erratic target space it might be beneficial to increase the value of the `alpha` parameter. This parameters controls how much noise the GP can handle, so increase it whenever you think that extra flexibility is needed."
   ]
  },
  {
   "cell_type": "markdown",
   "metadata": {},
   "source": [
    "### 4.3 Changing kernels\n",
    "\n",
    "By default this package uses the Mattern 2.5 kernel. Depending on your use case you may find that tunning the GP kernel could be beneficial. You're on your own here since these are very specific solutions to very specific problems."
   ]
  },
  {
   "cell_type": "markdown",
   "metadata": {},
   "source": [
    "## Observers Continued\n",
    "\n",
    "Observers are objects that subscribe and listen to particular events fired by the `BayesianOptimization` object. \n",
    "\n",
    "When an event gets fired a callback function is called with the event and the `BayesianOptimization` instance passed as parameters. The callback can be specified at the time of subscription. If none is given it will look for an `update` method from the observer."
   ]
  },
  {
   "cell_type": "code",
   "execution_count": 19,
   "metadata": {},
   "outputs": [],
   "source": [
    "from bayes_opt.event import OptimizationEvent"
   ]
  },
  {
   "cell_type": "code",
   "execution_count": 20,
   "metadata": {},
   "outputs": [],
   "source": [
    "optimizer = BayesianOptimization(\n",
    "    f=black_box_function,\n",
    "    pbounds={'x': (-2, 2), 'y': (-3, 3)},\n",
    "    verbose=2,\n",
    "    random_state=1,\n",
    ")"
   ]
  },
  {
   "cell_type": "code",
   "execution_count": 21,
   "metadata": {},
   "outputs": [],
   "source": [
    "class BasicObserver:\n",
    "    def update(self, event, instance):\n",
    "        \"\"\"Does whatever you want with the event and `BayesianOptimization` instance.\"\"\"\n",
    "        print(\"Event `{}` was observed\".format(event))"
   ]
  },
  {
   "cell_type": "code",
   "execution_count": 22,
   "metadata": {},
   "outputs": [],
   "source": [
    "my_observer = BasicObserver()\n",
    "\n",
    "optimizer.subscribe(\n",
    "    event=OptimizationEvent.STEP,\n",
    "    subscriber=my_observer,\n",
    "    callback=None, # Will use the `update` method as callback\n",
    ")"
   ]
  },
  {
   "cell_type": "markdown",
   "metadata": {},
   "source": [
    "Alternatively you have the option to pass a completely different callback."
   ]
  },
  {
   "cell_type": "code",
   "execution_count": 23,
   "metadata": {},
   "outputs": [],
   "source": [
    "def my_callback(event, instance):\n",
    "    print(\"Go nuts here!\")\n",
    "\n",
    "optimizer.subscribe(\n",
    "    event=OptimizationEvent.START,\n",
    "    subscriber=\"Any hashable object\",\n",
    "    callback=my_callback,\n",
    ")"
   ]
  },
  {
   "cell_type": "code",
   "execution_count": 24,
   "metadata": {},
   "outputs": [
    {
     "name": "stdout",
     "output_type": "stream",
     "text": [
      "Go nuts here!\n",
      "Event `2` was observed\n",
      "Event `2` was observed\n",
      "Event `2` was observed\n"
     ]
    }
   ],
   "source": [
    "optimizer.maximize(init_points=1, n_iter=2)"
   ]
  },
  {
   "cell_type": "markdown",
   "metadata": {},
   "source": [
    "For a list of all default events you can checkout `OptimizationEvent.__members__`"
   ]
  },
  {
   "cell_type": "code",
   "execution_count": 25,
   "metadata": {},
   "outputs": [
    {
     "data": {
      "text/plain": [
       "mappingproxy({'START': <OptimizationEvent.START: 1>,\n",
       "              'STEP': <OptimizationEvent.STEP: 2>,\n",
       "              'SKIP': <OptimizationEvent.SKIP: 3>,\n",
       "              'END': <OptimizationEvent.END: 4>})"
      ]
     },
     "execution_count": 25,
     "metadata": {},
     "output_type": "execute_result"
    }
   ],
   "source": [
    "OptimizationEvent.__members__"
   ]
  }
 ],
 "metadata": {
  "kernelspec": {
   "display_name": "Python 3",
   "language": "python",
   "name": "python3"
  },
  "language_info": {
   "codemirror_mode": {
    "name": "ipython",
    "version": 3
   },
   "file_extension": ".py",
   "mimetype": "text/x-python",
   "name": "python",
   "nbconvert_exporter": "python",
   "pygments_lexer": "ipython3",
   "version": "3.6.3"
  }
 },
 "nbformat": 4,
 "nbformat_minor": 2
}
